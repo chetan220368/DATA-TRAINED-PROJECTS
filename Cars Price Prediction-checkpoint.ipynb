{
 "cells": [
  {
   "cell_type": "code",
   "execution_count": 1,
   "id": "b364bd93",
   "metadata": {},
   "outputs": [],
   "source": [
    "import pandas as pd\n",
    "import numpy as np\n",
    "import matplotlib.pyplot as plt\n",
    "import seaborn as sns\n",
    "%matplotlib inline\n",
    "import warnings\n",
    "warnings.filterwarnings('ignore')\n",
    "import re"
   ]
  },
  {
   "cell_type": "markdown",
   "id": "c7dce379",
   "metadata": {},
   "source": [
    "#### Loading the Dataset."
   ]
  },
  {
   "cell_type": "code",
   "execution_count": 2,
   "id": "7a08c33b",
   "metadata": {},
   "outputs": [
    {
     "ename": "FileNotFoundError",
     "evalue": "[Errno 2] No such file or directory: 'UsedCarsscrape.csv'",
     "output_type": "error",
     "traceback": [
      "\u001b[1;31m---------------------------------------------------------------------------\u001b[0m",
      "\u001b[1;31mFileNotFoundError\u001b[0m                         Traceback (most recent call last)",
      "\u001b[1;32m~\\AppData\\Local\\Temp/ipykernel_5760/2489130674.py\u001b[0m in \u001b[0;36m<module>\u001b[1;34m\u001b[0m\n\u001b[1;32m----> 1\u001b[1;33m \u001b[0mDF\u001b[0m \u001b[1;33m=\u001b[0m \u001b[0mpd\u001b[0m\u001b[1;33m.\u001b[0m\u001b[0mread_csv\u001b[0m\u001b[1;33m(\u001b[0m\u001b[1;34m'UsedCarsscrape.csv'\u001b[0m\u001b[1;33m)\u001b[0m\u001b[1;33m\u001b[0m\u001b[1;33m\u001b[0m\u001b[0m\n\u001b[0m",
      "\u001b[1;32m~\\anaconda3\\lib\\site-packages\\pandas\\util\\_decorators.py\u001b[0m in \u001b[0;36mwrapper\u001b[1;34m(*args, **kwargs)\u001b[0m\n\u001b[0;32m    309\u001b[0m                     \u001b[0mstacklevel\u001b[0m\u001b[1;33m=\u001b[0m\u001b[0mstacklevel\u001b[0m\u001b[1;33m,\u001b[0m\u001b[1;33m\u001b[0m\u001b[1;33m\u001b[0m\u001b[0m\n\u001b[0;32m    310\u001b[0m                 )\n\u001b[1;32m--> 311\u001b[1;33m             \u001b[1;32mreturn\u001b[0m \u001b[0mfunc\u001b[0m\u001b[1;33m(\u001b[0m\u001b[1;33m*\u001b[0m\u001b[0margs\u001b[0m\u001b[1;33m,\u001b[0m \u001b[1;33m**\u001b[0m\u001b[0mkwargs\u001b[0m\u001b[1;33m)\u001b[0m\u001b[1;33m\u001b[0m\u001b[1;33m\u001b[0m\u001b[0m\n\u001b[0m\u001b[0;32m    312\u001b[0m \u001b[1;33m\u001b[0m\u001b[0m\n\u001b[0;32m    313\u001b[0m         \u001b[1;32mreturn\u001b[0m \u001b[0mwrapper\u001b[0m\u001b[1;33m\u001b[0m\u001b[1;33m\u001b[0m\u001b[0m\n",
      "\u001b[1;32m~\\anaconda3\\lib\\site-packages\\pandas\\io\\parsers\\readers.py\u001b[0m in \u001b[0;36mread_csv\u001b[1;34m(filepath_or_buffer, sep, delimiter, header, names, index_col, usecols, squeeze, prefix, mangle_dupe_cols, dtype, engine, converters, true_values, false_values, skipinitialspace, skiprows, skipfooter, nrows, na_values, keep_default_na, na_filter, verbose, skip_blank_lines, parse_dates, infer_datetime_format, keep_date_col, date_parser, dayfirst, cache_dates, iterator, chunksize, compression, thousands, decimal, lineterminator, quotechar, quoting, doublequote, escapechar, comment, encoding, encoding_errors, dialect, error_bad_lines, warn_bad_lines, on_bad_lines, delim_whitespace, low_memory, memory_map, float_precision, storage_options)\u001b[0m\n\u001b[0;32m    584\u001b[0m     \u001b[0mkwds\u001b[0m\u001b[1;33m.\u001b[0m\u001b[0mupdate\u001b[0m\u001b[1;33m(\u001b[0m\u001b[0mkwds_defaults\u001b[0m\u001b[1;33m)\u001b[0m\u001b[1;33m\u001b[0m\u001b[1;33m\u001b[0m\u001b[0m\n\u001b[0;32m    585\u001b[0m \u001b[1;33m\u001b[0m\u001b[0m\n\u001b[1;32m--> 586\u001b[1;33m     \u001b[1;32mreturn\u001b[0m \u001b[0m_read\u001b[0m\u001b[1;33m(\u001b[0m\u001b[0mfilepath_or_buffer\u001b[0m\u001b[1;33m,\u001b[0m \u001b[0mkwds\u001b[0m\u001b[1;33m)\u001b[0m\u001b[1;33m\u001b[0m\u001b[1;33m\u001b[0m\u001b[0m\n\u001b[0m\u001b[0;32m    587\u001b[0m \u001b[1;33m\u001b[0m\u001b[0m\n\u001b[0;32m    588\u001b[0m \u001b[1;33m\u001b[0m\u001b[0m\n",
      "\u001b[1;32m~\\anaconda3\\lib\\site-packages\\pandas\\io\\parsers\\readers.py\u001b[0m in \u001b[0;36m_read\u001b[1;34m(filepath_or_buffer, kwds)\u001b[0m\n\u001b[0;32m    480\u001b[0m \u001b[1;33m\u001b[0m\u001b[0m\n\u001b[0;32m    481\u001b[0m     \u001b[1;31m# Create the parser.\u001b[0m\u001b[1;33m\u001b[0m\u001b[1;33m\u001b[0m\u001b[0m\n\u001b[1;32m--> 482\u001b[1;33m     \u001b[0mparser\u001b[0m \u001b[1;33m=\u001b[0m \u001b[0mTextFileReader\u001b[0m\u001b[1;33m(\u001b[0m\u001b[0mfilepath_or_buffer\u001b[0m\u001b[1;33m,\u001b[0m \u001b[1;33m**\u001b[0m\u001b[0mkwds\u001b[0m\u001b[1;33m)\u001b[0m\u001b[1;33m\u001b[0m\u001b[1;33m\u001b[0m\u001b[0m\n\u001b[0m\u001b[0;32m    483\u001b[0m \u001b[1;33m\u001b[0m\u001b[0m\n\u001b[0;32m    484\u001b[0m     \u001b[1;32mif\u001b[0m \u001b[0mchunksize\u001b[0m \u001b[1;32mor\u001b[0m \u001b[0miterator\u001b[0m\u001b[1;33m:\u001b[0m\u001b[1;33m\u001b[0m\u001b[1;33m\u001b[0m\u001b[0m\n",
      "\u001b[1;32m~\\anaconda3\\lib\\site-packages\\pandas\\io\\parsers\\readers.py\u001b[0m in \u001b[0;36m__init__\u001b[1;34m(self, f, engine, **kwds)\u001b[0m\n\u001b[0;32m    809\u001b[0m             \u001b[0mself\u001b[0m\u001b[1;33m.\u001b[0m\u001b[0moptions\u001b[0m\u001b[1;33m[\u001b[0m\u001b[1;34m\"has_index_names\"\u001b[0m\u001b[1;33m]\u001b[0m \u001b[1;33m=\u001b[0m \u001b[0mkwds\u001b[0m\u001b[1;33m[\u001b[0m\u001b[1;34m\"has_index_names\"\u001b[0m\u001b[1;33m]\u001b[0m\u001b[1;33m\u001b[0m\u001b[1;33m\u001b[0m\u001b[0m\n\u001b[0;32m    810\u001b[0m \u001b[1;33m\u001b[0m\u001b[0m\n\u001b[1;32m--> 811\u001b[1;33m         \u001b[0mself\u001b[0m\u001b[1;33m.\u001b[0m\u001b[0m_engine\u001b[0m \u001b[1;33m=\u001b[0m \u001b[0mself\u001b[0m\u001b[1;33m.\u001b[0m\u001b[0m_make_engine\u001b[0m\u001b[1;33m(\u001b[0m\u001b[0mself\u001b[0m\u001b[1;33m.\u001b[0m\u001b[0mengine\u001b[0m\u001b[1;33m)\u001b[0m\u001b[1;33m\u001b[0m\u001b[1;33m\u001b[0m\u001b[0m\n\u001b[0m\u001b[0;32m    812\u001b[0m \u001b[1;33m\u001b[0m\u001b[0m\n\u001b[0;32m    813\u001b[0m     \u001b[1;32mdef\u001b[0m \u001b[0mclose\u001b[0m\u001b[1;33m(\u001b[0m\u001b[0mself\u001b[0m\u001b[1;33m)\u001b[0m\u001b[1;33m:\u001b[0m\u001b[1;33m\u001b[0m\u001b[1;33m\u001b[0m\u001b[0m\n",
      "\u001b[1;32m~\\anaconda3\\lib\\site-packages\\pandas\\io\\parsers\\readers.py\u001b[0m in \u001b[0;36m_make_engine\u001b[1;34m(self, engine)\u001b[0m\n\u001b[0;32m   1038\u001b[0m             )\n\u001b[0;32m   1039\u001b[0m         \u001b[1;31m# error: Too many arguments for \"ParserBase\"\u001b[0m\u001b[1;33m\u001b[0m\u001b[1;33m\u001b[0m\u001b[0m\n\u001b[1;32m-> 1040\u001b[1;33m         \u001b[1;32mreturn\u001b[0m \u001b[0mmapping\u001b[0m\u001b[1;33m[\u001b[0m\u001b[0mengine\u001b[0m\u001b[1;33m]\u001b[0m\u001b[1;33m(\u001b[0m\u001b[0mself\u001b[0m\u001b[1;33m.\u001b[0m\u001b[0mf\u001b[0m\u001b[1;33m,\u001b[0m \u001b[1;33m**\u001b[0m\u001b[0mself\u001b[0m\u001b[1;33m.\u001b[0m\u001b[0moptions\u001b[0m\u001b[1;33m)\u001b[0m  \u001b[1;31m# type: ignore[call-arg]\u001b[0m\u001b[1;33m\u001b[0m\u001b[1;33m\u001b[0m\u001b[0m\n\u001b[0m\u001b[0;32m   1041\u001b[0m \u001b[1;33m\u001b[0m\u001b[0m\n\u001b[0;32m   1042\u001b[0m     \u001b[1;32mdef\u001b[0m \u001b[0m_failover_to_python\u001b[0m\u001b[1;33m(\u001b[0m\u001b[0mself\u001b[0m\u001b[1;33m)\u001b[0m\u001b[1;33m:\u001b[0m\u001b[1;33m\u001b[0m\u001b[1;33m\u001b[0m\u001b[0m\n",
      "\u001b[1;32m~\\anaconda3\\lib\\site-packages\\pandas\\io\\parsers\\c_parser_wrapper.py\u001b[0m in \u001b[0;36m__init__\u001b[1;34m(self, src, **kwds)\u001b[0m\n\u001b[0;32m     49\u001b[0m \u001b[1;33m\u001b[0m\u001b[0m\n\u001b[0;32m     50\u001b[0m         \u001b[1;31m# open handles\u001b[0m\u001b[1;33m\u001b[0m\u001b[1;33m\u001b[0m\u001b[0m\n\u001b[1;32m---> 51\u001b[1;33m         \u001b[0mself\u001b[0m\u001b[1;33m.\u001b[0m\u001b[0m_open_handles\u001b[0m\u001b[1;33m(\u001b[0m\u001b[0msrc\u001b[0m\u001b[1;33m,\u001b[0m \u001b[0mkwds\u001b[0m\u001b[1;33m)\u001b[0m\u001b[1;33m\u001b[0m\u001b[1;33m\u001b[0m\u001b[0m\n\u001b[0m\u001b[0;32m     52\u001b[0m         \u001b[1;32massert\u001b[0m \u001b[0mself\u001b[0m\u001b[1;33m.\u001b[0m\u001b[0mhandles\u001b[0m \u001b[1;32mis\u001b[0m \u001b[1;32mnot\u001b[0m \u001b[1;32mNone\u001b[0m\u001b[1;33m\u001b[0m\u001b[1;33m\u001b[0m\u001b[0m\n\u001b[0;32m     53\u001b[0m \u001b[1;33m\u001b[0m\u001b[0m\n",
      "\u001b[1;32m~\\anaconda3\\lib\\site-packages\\pandas\\io\\parsers\\base_parser.py\u001b[0m in \u001b[0;36m_open_handles\u001b[1;34m(self, src, kwds)\u001b[0m\n\u001b[0;32m    220\u001b[0m         \u001b[0mLet\u001b[0m \u001b[0mthe\u001b[0m \u001b[0mreaders\u001b[0m \u001b[0mopen\u001b[0m \u001b[0mIOHandles\u001b[0m \u001b[0mafter\u001b[0m \u001b[0mthey\u001b[0m \u001b[0mare\u001b[0m \u001b[0mdone\u001b[0m \u001b[1;32mwith\u001b[0m \u001b[0mtheir\u001b[0m \u001b[0mpotential\u001b[0m \u001b[0mraises\u001b[0m\u001b[1;33m.\u001b[0m\u001b[1;33m\u001b[0m\u001b[1;33m\u001b[0m\u001b[0m\n\u001b[0;32m    221\u001b[0m         \"\"\"\n\u001b[1;32m--> 222\u001b[1;33m         self.handles = get_handle(\n\u001b[0m\u001b[0;32m    223\u001b[0m             \u001b[0msrc\u001b[0m\u001b[1;33m,\u001b[0m\u001b[1;33m\u001b[0m\u001b[1;33m\u001b[0m\u001b[0m\n\u001b[0;32m    224\u001b[0m             \u001b[1;34m\"r\"\u001b[0m\u001b[1;33m,\u001b[0m\u001b[1;33m\u001b[0m\u001b[1;33m\u001b[0m\u001b[0m\n",
      "\u001b[1;32m~\\anaconda3\\lib\\site-packages\\pandas\\io\\common.py\u001b[0m in \u001b[0;36mget_handle\u001b[1;34m(path_or_buf, mode, encoding, compression, memory_map, is_text, errors, storage_options)\u001b[0m\n\u001b[0;32m    700\u001b[0m         \u001b[1;32mif\u001b[0m \u001b[0mioargs\u001b[0m\u001b[1;33m.\u001b[0m\u001b[0mencoding\u001b[0m \u001b[1;32mand\u001b[0m \u001b[1;34m\"b\"\u001b[0m \u001b[1;32mnot\u001b[0m \u001b[1;32min\u001b[0m \u001b[0mioargs\u001b[0m\u001b[1;33m.\u001b[0m\u001b[0mmode\u001b[0m\u001b[1;33m:\u001b[0m\u001b[1;33m\u001b[0m\u001b[1;33m\u001b[0m\u001b[0m\n\u001b[0;32m    701\u001b[0m             \u001b[1;31m# Encoding\u001b[0m\u001b[1;33m\u001b[0m\u001b[1;33m\u001b[0m\u001b[0m\n\u001b[1;32m--> 702\u001b[1;33m             handle = open(\n\u001b[0m\u001b[0;32m    703\u001b[0m                 \u001b[0mhandle\u001b[0m\u001b[1;33m,\u001b[0m\u001b[1;33m\u001b[0m\u001b[1;33m\u001b[0m\u001b[0m\n\u001b[0;32m    704\u001b[0m                 \u001b[0mioargs\u001b[0m\u001b[1;33m.\u001b[0m\u001b[0mmode\u001b[0m\u001b[1;33m,\u001b[0m\u001b[1;33m\u001b[0m\u001b[1;33m\u001b[0m\u001b[0m\n",
      "\u001b[1;31mFileNotFoundError\u001b[0m: [Errno 2] No such file or directory: 'UsedCarsscrape.csv'"
     ]
    }
   ],
   "source": [
    "DF = pd.read_csv('UsedCarsscrape.csv')"
   ]
  },
  {
   "cell_type": "code",
   "execution_count": null,
   "id": "d8c42f8e",
   "metadata": {},
   "outputs": [],
   "source": [
    "DF.head(50)"
   ]
  },
  {
   "cell_type": "code",
   "execution_count": null,
   "id": "d6a3a651",
   "metadata": {},
   "outputs": [],
   "source": [
    "DF.shape"
   ]
  },
  {
   "cell_type": "code",
   "execution_count": null,
   "id": "135bcbe6",
   "metadata": {},
   "outputs": [],
   "source": [
    "DF.info()"
   ]
  },
  {
   "cell_type": "markdown",
   "id": "64704342",
   "metadata": {},
   "source": [
    "### Dataframe Description:"
   ]
  },
  {
   "cell_type": "markdown",
   "id": "638a6e95",
   "metadata": {},
   "source": [
    "### Problem Statement:\n",
    "\n",
    "With the covid 19 impact in the market, we have seen lot of changes in the car market. Now some \n",
    "cars are in demand hence making them costly and some are not in demand hence cheaper. One \n",
    "of our clients works with small traders, who sell used cars. With the change in market due to covid \n",
    "19 impact, our client is facing problems with their previous car price valuation machine learning \n",
    "models. So, they are looking for new machine learning models from new data. We have to make \n",
    "car price valuation model.\n",
    "\n",
    "### FEATURES:\n",
    "    \n",
    "Brand Name: Name of the Car Brand\n",
    "\n",
    "Model Name: Name of the specific Car Model of a Brand\n",
    "\n",
    "Year:  Year of Manufacture\n",
    "\n",
    "Type:  Car Model Type\n",
    "\n",
    "Total Kilometers Driven: Total Kilometers,for which the car has been so far driven.\n",
    "\n",
    "Fuel Type:  Type of fuel used\n",
    "\n",
    "Owner: The ordinal number of previous owner\n",
    "\n",
    "Location: Availability Location of Car       \n",
    "\n",
    "Transmission:  Power Transmission type of the car   \n",
    "\n",
    "Seating Capacity: Total number of passengers that the car can accomodate \n",
    "\n",
    "Mileage: Mileage of the Car\n",
    "\n",
    "### Target / Label Column:\n",
    "\n",
    "Price: Selling Price of the Car"
   ]
  },
  {
   "cell_type": "markdown",
   "id": "27a8d7d3",
   "metadata": {},
   "source": [
    "####  Data Cleaning"
   ]
  },
  {
   "cell_type": "code",
   "execution_count": null,
   "id": "a43fe793",
   "metadata": {},
   "outputs": [],
   "source": [
    "DF.nunique()"
   ]
  },
  {
   "cell_type": "code",
   "execution_count": null,
   "id": "839391f2",
   "metadata": {},
   "outputs": [],
   "source": [
    "DF['Type'].value_counts()"
   ]
  },
  {
   "cell_type": "code",
   "execution_count": null,
   "id": "23c189c8",
   "metadata": {},
   "outputs": [],
   "source": [
    "DF = DF.drop(DF[DF.Type == '5 Seater'].index)"
   ]
  },
  {
   "cell_type": "code",
   "execution_count": null,
   "id": "4e9b6b24",
   "metadata": {},
   "outputs": [],
   "source": [
    "DF = DF.drop(DF[DF.Type == '7 Seater'].index)"
   ]
  },
  {
   "cell_type": "code",
   "execution_count": null,
   "id": "3ade1242",
   "metadata": {},
   "outputs": [],
   "source": [
    "DF = DF.drop(DF[DF.Type == '6 Seater'].index)"
   ]
  },
  {
   "cell_type": "code",
   "execution_count": null,
   "id": "0b0c8db3",
   "metadata": {},
   "outputs": [],
   "source": [
    "DF = DF.drop(DF[DF.Type == '8 Seater'].index)"
   ]
  },
  {
   "cell_type": "code",
   "execution_count": null,
   "id": "25ff11b3",
   "metadata": {},
   "outputs": [],
   "source": [
    "DF = DF.drop(DF[DF.Type == '-'].index)"
   ]
  },
  {
   "cell_type": "code",
   "execution_count": null,
   "id": "54b775f7",
   "metadata": {},
   "outputs": [],
   "source": [
    "DF['Type'].value_counts()"
   ]
  },
  {
   "cell_type": "code",
   "execution_count": null,
   "id": "006f2c38",
   "metadata": {},
   "outputs": [],
   "source": [
    "DF['Year'].value_counts()"
   ]
  },
  {
   "cell_type": "code",
   "execution_count": null,
   "id": "0581aff0",
   "metadata": {},
   "outputs": [],
   "source": [
    "DF['Year'] = DF['Year'].replace({'IV-2011':'2011'})"
   ]
  },
  {
   "cell_type": "code",
   "execution_count": null,
   "id": "41d6db1f",
   "metadata": {},
   "outputs": [],
   "source": [
    "DF['Year'].value_counts()"
   ]
  },
  {
   "cell_type": "code",
   "execution_count": null,
   "id": "98ccba3e",
   "metadata": {
    "scrolled": true
   },
   "outputs": [],
   "source": [
    "DF['Brand Name'].value_counts()"
   ]
  },
  {
   "cell_type": "code",
   "execution_count": null,
   "id": "f34a7a5d",
   "metadata": {},
   "outputs": [],
   "source": [
    "DF['Model Name'].value_counts()"
   ]
  },
  {
   "cell_type": "code",
   "execution_count": null,
   "id": "512201c3",
   "metadata": {},
   "outputs": [],
   "source": [
    "DF['Total Kilometers Driven'].value_counts()"
   ]
  },
  {
   "cell_type": "code",
   "execution_count": null,
   "id": "bd777f86",
   "metadata": {},
   "outputs": [],
   "source": [
    "DF['Fuel Type'].value_counts()"
   ]
  },
  {
   "cell_type": "code",
   "execution_count": null,
   "id": "d623d575",
   "metadata": {},
   "outputs": [],
   "source": [
    "DF['Owner'].value_counts()"
   ]
  },
  {
   "cell_type": "code",
   "execution_count": null,
   "id": "688d90af",
   "metadata": {},
   "outputs": [],
   "source": [
    "DF['Location'].value_counts()"
   ]
  },
  {
   "cell_type": "code",
   "execution_count": null,
   "id": "81234f32",
   "metadata": {},
   "outputs": [],
   "source": [
    "DF['Location'] = DF['Location'].replace({'delhi':'Delhi','bangalore':'Bangalore','bengaluru':'Bangalore','Bengaluru':'Bangalore','patna':'Patna','mumbai':'Mumbai','navi mumbai':'Navi Mumbai','visakhapatnam':'Visakhapatnam','ahmedabad':'Ahmedabad','coimbatore':'Coimbatore','chennai':'Chennai','kolkata':'Kolkata','jaipur':'Jaipur','surat':'Surat','pune':'Pune','hyderabad':'Hyderabad','nagpur':'Nagpur','nashik':'Nashik','gurgaon':'Gurgaon','ghaziabad':'Ghaziabad','faridabad':'Faridabad','lucknow':'Lucknow','jodhpur':'Jodhpur','kanpur':'Kanpur','agra':'Agra','ludhiana':'Ludhiana','sirsa':'Sirsa','noida':'Noida','bhopal':'Bhopal','vadodara':'Vadodara','meerut':'Meerut','thane':'Thane','chandigarh':'Chandigarh','ranchi':'Ranchi','jamshedpur':'Jamshedpur','dehradun':'Dehradun','jalandhar':'Jalandhar','rajkot':'Rajkot','kolhapur':'Kolhapur','aurangabad':'Aurangabad','guwahati':'Guwahati','sangrur':'Sangrur','bathinda':'Bathinda','siliguri':'Siliguri','jabalpur':'Jabalpur','moradabad':'Moradabad','madurai':'Madurai','faizabad':'Faizabad','indore':'Indore','karim nagar':'Karim Nagar','hissar':'Hissar','kota':'Kota','kalyan':'Kalyan','dirba':'Dirba','ahmednagar':'Ahmednagar','panchkula':'Panchkula','mohali':'Mohali','unnao':'Unnao','kathua':'Kathua','raipur':'Raipur','thrissur':'Thrissur','godhara':'Godhara','baraut':'Baraut','ujjain':'Ujjain','amritsar':'Amritsar','shahjahanpur':'Shahjahanpur','srinagar':'Srinagar','patiala':'Patiala','pratapgarh':'Pratapgarh','hoshiarpur':'Hoshiarpur','akola':'Akola','jamnagar':'Jamnagar','jajpur':'Jajpur','palanpur':'Palanpur','solan':'Solan','bhubaneshwar':'Bhubaneshwar','karnal':'Karnal','kanpur nagar':'Kanpur Nagar','jhansi':'Jhansi','mandi':'Mandi','rudrapur':'Rudrapur'})"
   ]
  },
  {
   "cell_type": "code",
   "execution_count": null,
   "id": "461a6152",
   "metadata": {},
   "outputs": [],
   "source": [
    "DF['Location'].value_counts()"
   ]
  },
  {
   "cell_type": "code",
   "execution_count": null,
   "id": "38aa25bc",
   "metadata": {},
   "outputs": [],
   "source": [
    "DF['Transmission'].value_counts()"
   ]
  },
  {
   "cell_type": "code",
   "execution_count": null,
   "id": "70883558",
   "metadata": {},
   "outputs": [],
   "source": [
    "DF['Seating Capacity'].value_counts()"
   ]
  },
  {
   "cell_type": "code",
   "execution_count": null,
   "id": "5b78c77c",
   "metadata": {},
   "outputs": [],
   "source": [
    "DF['Mileage'].value_counts()"
   ]
  },
  {
   "cell_type": "code",
   "execution_count": null,
   "id": "ed6abf61",
   "metadata": {},
   "outputs": [],
   "source": [
    "DF['Mileage'] = DF['Mileage'].replace({'16.10kpl':'16.10','7.6km/l':'7.6'})"
   ]
  },
  {
   "cell_type": "code",
   "execution_count": null,
   "id": "b269750d",
   "metadata": {},
   "outputs": [],
   "source": [
    "DF['Mileage'].value_counts()"
   ]
  },
  {
   "cell_type": "code",
   "execution_count": null,
   "id": "5e9087a8",
   "metadata": {},
   "outputs": [],
   "source": [
    "DF['Price'].value_counts()"
   ]
  },
  {
   "cell_type": "markdown",
   "id": "8a2245eb",
   "metadata": {},
   "source": [
    "#### checking for null values"
   ]
  },
  {
   "cell_type": "code",
   "execution_count": null,
   "id": "b6dba4b9",
   "metadata": {},
   "outputs": [],
   "source": [
    "DF.isnull().sum()"
   ]
  },
  {
   "cell_type": "code",
   "execution_count": null,
   "id": "236ff517",
   "metadata": {},
   "outputs": [],
   "source": [
    "DF.Location.nunique()"
   ]
  },
  {
   "cell_type": "markdown",
   "id": "a4bc3305",
   "metadata": {},
   "source": [
    "#### Checking for blank spaces, random characters in each column"
   ]
  },
  {
   "cell_type": "code",
   "execution_count": null,
   "id": "786744e7",
   "metadata": {},
   "outputs": [],
   "source": [
    "search =[\"-\"]\n",
    "\n",
    "for c in DF:\n",
    "    for s in search:\n",
    "        print(f\"{s} in {c} = \",end= \" \")\n",
    "        print((DF[c] == s).sum())"
   ]
  },
  {
   "cell_type": "markdown",
   "id": "980feaa9",
   "metadata": {},
   "source": [
    "'-' in Transmission =  53, '-' in Seating Capacity =  13, and '-' in Mileage =  1148"
   ]
  },
  {
   "cell_type": "code",
   "execution_count": null,
   "id": "591568e2",
   "metadata": {},
   "outputs": [],
   "source": [
    "DF.replace({'-': np.nan}, inplace=True) #converting '-' to NaN values"
   ]
  },
  {
   "cell_type": "code",
   "execution_count": null,
   "id": "93b4c2ad",
   "metadata": {},
   "outputs": [],
   "source": [
    "DF.isnull().sum()"
   ]
  },
  {
   "cell_type": "code",
   "execution_count": null,
   "id": "4281dfa8",
   "metadata": {},
   "outputs": [],
   "source": [
    "DF.info()"
   ]
  },
  {
   "cell_type": "markdown",
   "id": "38fb305b",
   "metadata": {},
   "source": [
    "Seating Capacity,Mileage,Price,Total Kilometers Driven,Year need to be converted to int64 / float"
   ]
  },
  {
   "cell_type": "code",
   "execution_count": null,
   "id": "57be4fb1",
   "metadata": {},
   "outputs": [],
   "source": [
    "for c in DF[['Seating Capacity','Mileage','Price','Total Kilometers Driven','Year']]:\n",
    "    DF[c] = DF[c].astype('float')"
   ]
  },
  {
   "cell_type": "code",
   "execution_count": null,
   "id": "80c96ca5",
   "metadata": {},
   "outputs": [],
   "source": [
    "DF.info()"
   ]
  },
  {
   "cell_type": "markdown",
   "id": "75f41289",
   "metadata": {},
   "source": [
    "#### Handling Missing Values"
   ]
  },
  {
   "cell_type": "code",
   "execution_count": null,
   "id": "bbd5448c",
   "metadata": {
    "scrolled": true
   },
   "outputs": [],
   "source": [
    "DF.isnull().sum()"
   ]
  },
  {
   "cell_type": "code",
   "execution_count": null,
   "id": "ef30603d",
   "metadata": {},
   "outputs": [],
   "source": [
    "from sklearn.impute import SimpleImputer"
   ]
  },
  {
   "cell_type": "code",
   "execution_count": null,
   "id": "bbfb1860",
   "metadata": {},
   "outputs": [],
   "source": [
    "DF.Transmission.value_counts()"
   ]
  },
  {
   "cell_type": "markdown",
   "id": "8859fe0e",
   "metadata": {},
   "source": [
    "#### Imputing most frequently occuring value to missing values."
   ]
  },
  {
   "cell_type": "code",
   "execution_count": null,
   "id": "b6ec2ce9",
   "metadata": {},
   "outputs": [],
   "source": [
    "si = SimpleImputer(missing_values = np.nan,strategy = 'most_frequent',verbose = 0 )"
   ]
  },
  {
   "cell_type": "code",
   "execution_count": null,
   "id": "e66f0530",
   "metadata": {},
   "outputs": [],
   "source": [
    "si = si.fit(DF[['Transmission']])"
   ]
  },
  {
   "cell_type": "code",
   "execution_count": null,
   "id": "3980d6ad",
   "metadata": {},
   "outputs": [],
   "source": [
    "DF[['Transmission']] = si.transform(DF[['Transmission']])"
   ]
  },
  {
   "cell_type": "code",
   "execution_count": null,
   "id": "779c31ff",
   "metadata": {},
   "outputs": [],
   "source": [
    "DF[['Transmission']].isnull().sum()"
   ]
  },
  {
   "cell_type": "markdown",
   "id": "e646ae57",
   "metadata": {},
   "source": [
    "#### Using KNN Imputation technique for imputing missing data."
   ]
  },
  {
   "cell_type": "code",
   "execution_count": null,
   "id": "75336650",
   "metadata": {},
   "outputs": [],
   "source": [
    "from sklearn.impute import KNNImputer"
   ]
  },
  {
   "cell_type": "code",
   "execution_count": null,
   "id": "102d50ba",
   "metadata": {},
   "outputs": [],
   "source": [
    "imp = KNNImputer(n_neighbors=2)"
   ]
  },
  {
   "cell_type": "code",
   "execution_count": null,
   "id": "bb536cef",
   "metadata": {},
   "outputs": [],
   "source": [
    "DF[['Seating Capacity']] = imp.fit_transform(DF[['Seating Capacity']])"
   ]
  },
  {
   "cell_type": "code",
   "execution_count": null,
   "id": "62cc86ab",
   "metadata": {},
   "outputs": [],
   "source": [
    "DF[['Mileage']] = imp.fit_transform(DF[['Mileage']])"
   ]
  },
  {
   "cell_type": "code",
   "execution_count": null,
   "id": "53ba77e8",
   "metadata": {},
   "outputs": [],
   "source": [
    "DF.isnull().sum()"
   ]
  },
  {
   "cell_type": "markdown",
   "id": "0daebd44",
   "metadata": {},
   "source": [
    "There are no more null values in Dataset"
   ]
  },
  {
   "cell_type": "markdown",
   "id": "846f8881",
   "metadata": {},
   "source": [
    "#### Feature Engineering"
   ]
  },
  {
   "cell_type": "code",
   "execution_count": null,
   "id": "c9c813ef",
   "metadata": {},
   "outputs": [],
   "source": [
    "DF.reset_index(drop=True,inplace = True)"
   ]
  },
  {
   "cell_type": "code",
   "execution_count": null,
   "id": "3e5b6b26",
   "metadata": {},
   "outputs": [],
   "source": [
    "Brand_Name = DF['Brand Name'].tolist() #creating a list with values from colum 'Brand Name'"
   ]
  },
  {
   "cell_type": "code",
   "execution_count": null,
   "id": "e8c619d4",
   "metadata": {},
   "outputs": [],
   "source": [
    "Brand_Name"
   ]
  },
  {
   "cell_type": "code",
   "execution_count": null,
   "id": "1be35990",
   "metadata": {},
   "outputs": [],
   "source": [
    "Brand = []\n",
    "for b in Brand_Name:\n",
    "    Brand.append(b.split(\" \",1)[0])"
   ]
  },
  {
   "cell_type": "code",
   "execution_count": null,
   "id": "c5ca65f7",
   "metadata": {},
   "outputs": [],
   "source": [
    "Brand"
   ]
  },
  {
   "cell_type": "code",
   "execution_count": null,
   "id": "195c257a",
   "metadata": {},
   "outputs": [],
   "source": [
    "Model = []\n",
    "for b in Brand_Name:\n",
    "    Model.append(b.split(\" \",1)[1])"
   ]
  },
  {
   "cell_type": "code",
   "execution_count": null,
   "id": "28cc2a5d",
   "metadata": {},
   "outputs": [],
   "source": [
    "Model"
   ]
  },
  {
   "cell_type": "code",
   "execution_count": null,
   "id": "e71abf3e",
   "metadata": {},
   "outputs": [],
   "source": [
    "Model_Name = DF['Model Name'].tolist() #creating a list with values from colum 'Model Name'"
   ]
  },
  {
   "cell_type": "code",
   "execution_count": null,
   "id": "1ef69b23",
   "metadata": {},
   "outputs": [],
   "source": [
    "Model_Name"
   ]
  },
  {
   "cell_type": "code",
   "execution_count": null,
   "id": "04b14105",
   "metadata": {},
   "outputs": [],
   "source": [
    "Variant1 = []\n",
    "for m in Model_Name:\n",
    "    Variant1.append(m.split(\" \",2)[2])"
   ]
  },
  {
   "cell_type": "code",
   "execution_count": null,
   "id": "861309b8",
   "metadata": {},
   "outputs": [],
   "source": [
    "Variant1"
   ]
  },
  {
   "cell_type": "code",
   "execution_count": null,
   "id": "087a8763",
   "metadata": {},
   "outputs": [],
   "source": [
    "Variant = []\n",
    "for v in Variant1:\n",
    "    Variant.append(v.rsplit(\" \",1)[0]) #removing manufacture year from the variant names"
   ]
  },
  {
   "cell_type": "code",
   "execution_count": null,
   "id": "49f17716",
   "metadata": {},
   "outputs": [],
   "source": [
    "Variant"
   ]
  },
  {
   "cell_type": "markdown",
   "id": "a63c2b45",
   "metadata": {},
   "source": [
    "##### Adding 'Brand', 'Model' and 'Variant' columns to DF dataframe."
   ]
  },
  {
   "cell_type": "code",
   "execution_count": null,
   "id": "a40d81a7",
   "metadata": {},
   "outputs": [],
   "source": [
    "df2 = pd.DataFrame({'Brand':Brand, 'Model':Model,'Variant': Variant})"
   ]
  },
  {
   "cell_type": "code",
   "execution_count": null,
   "id": "c3ab3ed8",
   "metadata": {},
   "outputs": [],
   "source": [
    "df2"
   ]
  },
  {
   "cell_type": "code",
   "execution_count": null,
   "id": "8eb5692d",
   "metadata": {},
   "outputs": [],
   "source": [
    "df2.index = DF.index"
   ]
  },
  {
   "cell_type": "code",
   "execution_count": null,
   "id": "37644dc8",
   "metadata": {},
   "outputs": [],
   "source": [
    "DF[['Brand','Model','Variant']] = df2[['Brand','Model','Variant']]"
   ]
  },
  {
   "cell_type": "code",
   "execution_count": null,
   "id": "271b4280",
   "metadata": {},
   "outputs": [],
   "source": [
    "DF"
   ]
  },
  {
   "cell_type": "code",
   "execution_count": null,
   "id": "a4dc3498",
   "metadata": {},
   "outputs": [],
   "source": [
    "DF.Brand.value_counts()"
   ]
  },
  {
   "cell_type": "code",
   "execution_count": null,
   "id": "16a71d3a",
   "metadata": {},
   "outputs": [],
   "source": [
    "DF.Brand.nunique()"
   ]
  },
  {
   "cell_type": "code",
   "execution_count": null,
   "id": "1ef71160",
   "metadata": {},
   "outputs": [],
   "source": [
    "DF.Model.nunique()"
   ]
  },
  {
   "cell_type": "code",
   "execution_count": null,
   "id": "f6f36ab8",
   "metadata": {
    "scrolled": true
   },
   "outputs": [],
   "source": [
    "DF.Model.value_counts()"
   ]
  },
  {
   "cell_type": "code",
   "execution_count": null,
   "id": "d7295e44",
   "metadata": {},
   "outputs": [],
   "source": [
    "DF.Variant.value_counts()"
   ]
  },
  {
   "cell_type": "code",
   "execution_count": null,
   "id": "3b1a949e",
   "metadata": {},
   "outputs": [],
   "source": [
    "DF.Variant.nunique()"
   ]
  },
  {
   "cell_type": "markdown",
   "id": "165bd14b",
   "metadata": {},
   "source": [
    "#### Dropping columns Unnamed: 0, Brand Name and Model Name since they are no longer required"
   ]
  },
  {
   "cell_type": "code",
   "execution_count": null,
   "id": "a47c04c0",
   "metadata": {},
   "outputs": [],
   "source": [
    "DF.drop(columns = ['Unnamed: 0','Brand Name','Model Name'],inplace=True)"
   ]
  },
  {
   "cell_type": "markdown",
   "id": "0d6c9585",
   "metadata": {},
   "source": [
    "### Getting statistical information of the data."
   ]
  },
  {
   "cell_type": "code",
   "execution_count": null,
   "id": "068283c7",
   "metadata": {},
   "outputs": [],
   "source": [
    "DF.describe()"
   ]
  },
  {
   "cell_type": "markdown",
   "id": "14b70c0b",
   "metadata": {},
   "source": [
    "Big difference between max and 75% in Seating Capacity column indicates presence of outliers."
   ]
  },
  {
   "cell_type": "code",
   "execution_count": null,
   "id": "ee325734",
   "metadata": {},
   "outputs": [],
   "source": [
    "DF.dtypes[DF.dtypes == 'object'] #Identifying the object type Columns"
   ]
  },
  {
   "cell_type": "code",
   "execution_count": null,
   "id": "2cc97cf7",
   "metadata": {},
   "outputs": [],
   "source": [
    "DF.dtypes[DF.dtypes != 'object'] #Identifying the non object type Columns"
   ]
  },
  {
   "cell_type": "markdown",
   "id": "a6d8d95a",
   "metadata": {},
   "source": [
    "### Interpreting Relationship between Independent  and Dependent Variables"
   ]
  },
  {
   "cell_type": "markdown",
   "id": "5cd3e2ea",
   "metadata": {},
   "source": [
    "#### Analyzing the Target Column"
   ]
  },
  {
   "cell_type": "code",
   "execution_count": null,
   "id": "c1bea278",
   "metadata": {},
   "outputs": [],
   "source": [
    "sns.distplot(DF.Price)"
   ]
  },
  {
   "cell_type": "markdown",
   "id": "1c7847ba",
   "metadata": {},
   "source": [
    "From the graph above it is observed that the Price data forms a continuous distribution and the distribution is skewed."
   ]
  },
  {
   "cell_type": "code",
   "execution_count": null,
   "id": "cc110bfe",
   "metadata": {},
   "outputs": [],
   "source": [
    "DF.Price.describe()"
   ]
  },
  {
   "cell_type": "code",
   "execution_count": null,
   "id": "bc740ea8",
   "metadata": {},
   "outputs": [],
   "source": [
    "DF.Price.skew()"
   ]
  },
  {
   "cell_type": "markdown",
   "id": "38aa7019",
   "metadata": {},
   "source": [
    "#### Analyzing the Feature Columns"
   ]
  },
  {
   "cell_type": "code",
   "execution_count": null,
   "id": "a635db4d",
   "metadata": {},
   "outputs": [],
   "source": [
    "DF.dtypes[DF.dtypes == 'object'] #Identifying the Categorical Columns"
   ]
  },
  {
   "cell_type": "code",
   "execution_count": null,
   "id": "81fc8a03",
   "metadata": {},
   "outputs": [],
   "source": [
    "DF.Type.value_counts()"
   ]
  },
  {
   "cell_type": "code",
   "execution_count": null,
   "id": "70eeacaf",
   "metadata": {},
   "outputs": [],
   "source": [
    "plt.figure(figsize=(30,5),facecolor='white')\n",
    "sns.countplot(DF.Type, palette=\"Set1\")"
   ]
  },
  {
   "cell_type": "code",
   "execution_count": null,
   "id": "6857edf8",
   "metadata": {},
   "outputs": [],
   "source": [
    "DF['Fuel Type'].value_counts()"
   ]
  },
  {
   "cell_type": "code",
   "execution_count": null,
   "id": "2ef8184f",
   "metadata": {},
   "outputs": [],
   "source": [
    "plt.figure(figsize=(30,5),facecolor='white')\n",
    "sns.countplot(DF['Fuel Type'], palette=\"Set1\")"
   ]
  },
  {
   "cell_type": "code",
   "execution_count": null,
   "id": "fdf62a5e",
   "metadata": {},
   "outputs": [],
   "source": [
    "DF['Owner'].value_counts()"
   ]
  },
  {
   "cell_type": "code",
   "execution_count": null,
   "id": "ffa41db8",
   "metadata": {},
   "outputs": [],
   "source": [
    "plt.figure(figsize=(30,5),facecolor='white')\n",
    "sns.countplot(DF['Owner'], palette=\"Set1\")"
   ]
  },
  {
   "cell_type": "code",
   "execution_count": null,
   "id": "6cce58e6",
   "metadata": {},
   "outputs": [],
   "source": [
    "DF['Location'].value_counts()"
   ]
  },
  {
   "cell_type": "code",
   "execution_count": null,
   "id": "59e7f58b",
   "metadata": {},
   "outputs": [],
   "source": [
    "plt.figure(figsize=(30,5),facecolor='white')\n",
    "sns.countplot(DF['Location'][0:100], palette=\"Set1\")"
   ]
  },
  {
   "cell_type": "code",
   "execution_count": null,
   "id": "bf513f2d",
   "metadata": {},
   "outputs": [],
   "source": [
    "DF['Transmission'].value_counts()"
   ]
  },
  {
   "cell_type": "code",
   "execution_count": null,
   "id": "20f597f9",
   "metadata": {},
   "outputs": [],
   "source": [
    "plt.figure(figsize=(30,5),facecolor='white')\n",
    "sns.countplot(DF['Transmission'], palette=\"Set1\")"
   ]
  },
  {
   "cell_type": "code",
   "execution_count": null,
   "id": "07e9530c",
   "metadata": {},
   "outputs": [],
   "source": [
    "DF['Brand'].value_counts()"
   ]
  },
  {
   "cell_type": "code",
   "execution_count": null,
   "id": "e7e174d4",
   "metadata": {},
   "outputs": [],
   "source": [
    "plt.figure(figsize=(30,5),facecolor='white')\n",
    "sns.countplot(DF['Brand'], palette=\"Set1\")"
   ]
  },
  {
   "cell_type": "code",
   "execution_count": null,
   "id": "93c58972",
   "metadata": {
    "scrolled": true
   },
   "outputs": [],
   "source": [
    "DF['Model'].value_counts()"
   ]
  },
  {
   "cell_type": "code",
   "execution_count": null,
   "id": "eb2a6128",
   "metadata": {},
   "outputs": [],
   "source": [
    "plt.figure(figsize=(40,40),facecolor='white')\n",
    "sns.countplot(y=DF['Model'][0:100], palette=\"Set1\")"
   ]
  },
  {
   "cell_type": "code",
   "execution_count": null,
   "id": "0e3bdc68",
   "metadata": {},
   "outputs": [],
   "source": [
    "DF['Variant'].value_counts()"
   ]
  },
  {
   "cell_type": "code",
   "execution_count": null,
   "id": "5fa354f2",
   "metadata": {},
   "outputs": [],
   "source": [
    "plt.figure(figsize=(40,40),facecolor='white')\n",
    "sns.countplot(y=DF['Variant'][0:100], palette=\"Set1\")"
   ]
  },
  {
   "cell_type": "code",
   "execution_count": null,
   "id": "d0906257",
   "metadata": {},
   "outputs": [],
   "source": [
    "DF.dtypes[DF.dtypes != 'object'] #Identifying the Continuous non object type Columns"
   ]
  },
  {
   "cell_type": "code",
   "execution_count": null,
   "id": "6250ae9d",
   "metadata": {},
   "outputs": [],
   "source": [
    "plt.figure(figsize=(30,45),facecolor='white')\n",
    "plotnum=1\n",
    "X = DF.drop(columns = 'Price')\n",
    "for col in X[X.columns[X.dtypes != 'object']]:\n",
    "    if plotnum<=34:\n",
    "        plt.subplot(10,4,plotnum)\n",
    "        sns.distplot(X[col])\n",
    "        plt.xlabel(col,fontsize=20)\n",
    "    plotnum+=1\n",
    "plt.show()"
   ]
  },
  {
   "cell_type": "markdown",
   "id": "908eccc6",
   "metadata": {},
   "source": [
    "Year and Mileage columns look normally distributed, while Total kilometers Driven and Seating Capacity are skewed"
   ]
  },
  {
   "cell_type": "code",
   "execution_count": null,
   "id": "484bde9c",
   "metadata": {},
   "outputs": [],
   "source": [
    "DF[DF.columns[DF.dtypes != 'object']].skew()"
   ]
  },
  {
   "cell_type": "markdown",
   "id": "dc303789",
   "metadata": {},
   "source": [
    "### Checking for Outliers"
   ]
  },
  {
   "cell_type": "code",
   "execution_count": null,
   "id": "7fe8bea8",
   "metadata": {},
   "outputs": [],
   "source": [
    "plt.figure(figsize=(30,30),facecolor='white')\n",
    "plotnum=1\n",
    "for col in DF[DF.columns[DF.dtypes != 'object']]:\n",
    "    if plotnum<=34:\n",
    "        plt.subplot(8,5,plotnum)\n",
    "        sns.boxplot(DF[col])\n",
    "        plt.xlabel(col,fontsize=15)\n",
    "    plotnum+=1\n",
    "plt.show()"
   ]
  },
  {
   "cell_type": "markdown",
   "id": "d2767c34",
   "metadata": {},
   "source": [
    "There are considerable outliers in the columns."
   ]
  },
  {
   "cell_type": "markdown",
   "id": "95dbb597",
   "metadata": {},
   "source": [
    "#### Removing Outliers using Z score Method"
   ]
  },
  {
   "cell_type": "code",
   "execution_count": null,
   "id": "9a848a54",
   "metadata": {},
   "outputs": [],
   "source": [
    "df2 =DF[DF.columns[DF.dtypes != 'object']].copy() #making a copy of the continuous data type columns with outliers."
   ]
  },
  {
   "cell_type": "code",
   "execution_count": null,
   "id": "fc0b9e46",
   "metadata": {},
   "outputs": [],
   "source": [
    "from scipy.stats import zscore\n",
    "zscor = zscore(df2)\n",
    "z_score_abs = np.abs(zscor)\n",
    "\n",
    "df3 = df2[(z_score_abs < 3).all(axis=1)] #taking 3 as threshold value"
   ]
  },
  {
   "cell_type": "code",
   "execution_count": null,
   "id": "0b972a96",
   "metadata": {},
   "outputs": [],
   "source": [
    "df3.shape"
   ]
  },
  {
   "cell_type": "code",
   "execution_count": null,
   "id": "ce18d066",
   "metadata": {},
   "outputs": [],
   "source": [
    "df2.shape"
   ]
  },
  {
   "cell_type": "markdown",
   "id": "76f457e2",
   "metadata": {},
   "source": [
    "##### Data loss %:"
   ]
  },
  {
   "cell_type": "code",
   "execution_count": null,
   "id": "489ad262",
   "metadata": {},
   "outputs": [],
   "source": [
    "loss=(7483-7207)/7207 * 100\n",
    "loss"
   ]
  },
  {
   "cell_type": "markdown",
   "id": "d4ea6b1d",
   "metadata": {},
   "source": [
    "3.82% data loss is acceptable."
   ]
  },
  {
   "cell_type": "code",
   "execution_count": null,
   "id": "21a1f0a6",
   "metadata": {},
   "outputs": [],
   "source": [
    "dropindx = DF.index.difference(df3.index)"
   ]
  },
  {
   "cell_type": "code",
   "execution_count": null,
   "id": "a2a79a36",
   "metadata": {},
   "outputs": [],
   "source": [
    "dropindx"
   ]
  },
  {
   "cell_type": "code",
   "execution_count": null,
   "id": "01df4f17",
   "metadata": {},
   "outputs": [],
   "source": [
    "DF.drop(dropindx,inplace = True) #dropping the outliers from original features Dataframe\n"
   ]
  },
  {
   "cell_type": "code",
   "execution_count": null,
   "id": "65d426dc",
   "metadata": {},
   "outputs": [],
   "source": [
    "DF.reset_index(drop=True,inplace = True) #resetting the index of the dataframe"
   ]
  },
  {
   "cell_type": "code",
   "execution_count": null,
   "id": "3584e1f8",
   "metadata": {},
   "outputs": [],
   "source": [
    "plt.figure(figsize=(30,30),facecolor='white')\n",
    "plotnum=1\n",
    "for col in DF[DF.columns[DF.dtypes != 'object']]:\n",
    "    if plotnum<=34:\n",
    "        plt.subplot(8,5,plotnum)\n",
    "        sns.boxplot(DF[col])\n",
    "        plt.xlabel(col,fontsize=15)\n",
    "    plotnum+=1\n",
    "plt.show()"
   ]
  },
  {
   "cell_type": "markdown",
   "id": "78a2d9d3",
   "metadata": {},
   "source": [
    "Considerable number of outliers has been removed"
   ]
  },
  {
   "cell_type": "markdown",
   "id": "2b309abf",
   "metadata": {},
   "source": [
    "### Extracting Age data from Year Column to better understand its relationship with Target Column."
   ]
  },
  {
   "cell_type": "code",
   "execution_count": null,
   "id": "036be900",
   "metadata": {},
   "outputs": [],
   "source": [
    "DF['Car Age'] = DF['Year'].apply(lambda y: 2021 - y)"
   ]
  },
  {
   "cell_type": "code",
   "execution_count": null,
   "id": "626b2d20",
   "metadata": {},
   "outputs": [],
   "source": [
    "DF"
   ]
  },
  {
   "cell_type": "markdown",
   "id": "2803375b",
   "metadata": {},
   "source": [
    "#### Dropping Year Column since it is no longer needed"
   ]
  },
  {
   "cell_type": "code",
   "execution_count": null,
   "id": "cd654a8b",
   "metadata": {},
   "outputs": [],
   "source": [
    "DF.drop(columns = ['Year'],inplace=True)"
   ]
  },
  {
   "cell_type": "code",
   "execution_count": null,
   "id": "392f3269",
   "metadata": {},
   "outputs": [],
   "source": [
    "DF"
   ]
  },
  {
   "cell_type": "code",
   "execution_count": null,
   "id": "7cca1a0c",
   "metadata": {},
   "outputs": [],
   "source": [
    "plt.figure(figsize=(20,25),facecolor='white')\n",
    "plotnum=1\n",
    "y = DF['Price']\n",
    "DF.drop(columns=['Price'])\n",
    "for col in DF[DF.columns[DF.dtypes != 'object']]:\n",
    "    if plotnum<=40:\n",
    "        plt.subplot(10,4,plotnum)\n",
    "        sns.lineplot(DF[col],y)\n",
    "        plt.xlabel(col,fontsize=20)\n",
    "        plt.ylabel('Price',fontsize=20)\n",
    "    plotnum+=1\n",
    "plt.tight_layout()"
   ]
  },
  {
   "cell_type": "markdown",
   "id": "005220fd",
   "metadata": {},
   "source": [
    "Following Observations are made from graphs above:\n",
    "    \n",
    "There is a negative correlation between Total Kilometers Driven and Price\n",
    "\n",
    "Cars with Mileage between 14 km/l and 19 km/l have the highest prices\n",
    "\n",
    "There is a negative correlation between Car Age and Price\n",
    "\n",
    "There is a positive correlation between Seating capacity and Price"
   ]
  },
  {
   "cell_type": "code",
   "execution_count": null,
   "id": "c088a018",
   "metadata": {},
   "outputs": [],
   "source": [
    "plt.figure(figsize=(20,31),facecolor='white')\n",
    "plotnum=1\n",
    "y = DF['Price']\n",
    "for col in DF[['Type','Fuel Type','Owner','Transmission','Brand']]:\n",
    "    if plotnum<=40:\n",
    "        plt.subplot(5,1,plotnum)\n",
    "        sns.barplot(DF[col],y)\n",
    "        plt.xlabel(col,fontsize=20)\n",
    "        plt.ylabel('SalePrice',fontsize=20)\n",
    "    plotnum+=1\n",
    "plt.tight_layout()"
   ]
  },
  {
   "cell_type": "code",
   "execution_count": null,
   "id": "8b647598",
   "metadata": {},
   "outputs": [],
   "source": [
    "plt.figure(figsize=(10,21),facecolor='white')\n",
    "sns.barplot(y=DF['Location'][0:240],x=DF['Price'])"
   ]
  },
  {
   "cell_type": "code",
   "execution_count": null,
   "id": "df0326c0",
   "metadata": {},
   "outputs": [],
   "source": [
    "plt.figure(figsize=(10,21),facecolor='white')\n",
    "sns.barplot(y=DF['Model'][0:240],x=DF['Price'])"
   ]
  },
  {
   "cell_type": "markdown",
   "id": "44a148f9",
   "metadata": {},
   "source": [
    "Following Observations are made from graphs above:\n",
    "    \n",
    "SUV,MUV,Pickup and Crossover type Cars have the highest Prices\n",
    "\n",
    "Hybrid Fuel Type Cars are the costliest\n",
    "\n",
    "As the Number of previous owners increases, the price of used car decreases, so there is a negative correlation between ownership and Car Price\n",
    "\n",
    "Automatic Cars have the highest prices\n",
    "\n",
    "Kia,MG,Isuzu and Jeep are amongst the most expensive Car Brands while Maruti,Volkswagen,Chevrolet,Opel,Tata,Honda,Fiat and Ford are the most affordable Car Brands\n",
    "\n",
    "Car Prices are highest in Lucknow,Rajkot,Bhubhaneshwar,Kohlapur,Ahmedabad and Haflong\n",
    "\n",
    "Creta,Fortuner,Tucson,Seltos,Xuv500,Thar,Innova Crysta are amongst the most expensive car models, while Beat,Punto,Wagon R,Santro Xing,Alto,Fiesta are amongst the most affordable\n"
   ]
  },
  {
   "cell_type": "code",
   "execution_count": null,
   "id": "e05aad8f",
   "metadata": {},
   "outputs": [],
   "source": [
    "sns.barplot(DF['Type'],DF['Price'],hue = DF['Transmission'])"
   ]
  },
  {
   "cell_type": "markdown",
   "id": "98bbb4b7",
   "metadata": {},
   "source": [
    "SUV and MUV cars with Automatic Transmission are the costliest"
   ]
  },
  {
   "cell_type": "code",
   "execution_count": null,
   "id": "f26818cc",
   "metadata": {},
   "outputs": [],
   "source": [
    "sns.barplot(DF['Fuel Type'],DF['Price'],hue = DF['Transmission'])"
   ]
  },
  {
   "cell_type": "markdown",
   "id": "4b6f27ab",
   "metadata": {},
   "source": [
    "Hybrid Cars with Manual Transmission have the highest price followed by Diesel and Petrol cars with Automatic Transmission"
   ]
  },
  {
   "cell_type": "code",
   "execution_count": null,
   "id": "96ccc3aa",
   "metadata": {},
   "outputs": [],
   "source": [
    "sns.barplot(DF['Type'],DF['Price'],hue = DF['Fuel Type'])"
   ]
  },
  {
   "cell_type": "markdown",
   "id": "ce9b73ac",
   "metadata": {},
   "source": [
    "Hybrid Type Hatchback and SUV Cars are the most expensive"
   ]
  },
  {
   "cell_type": "code",
   "execution_count": null,
   "id": "e1c39fcd",
   "metadata": {},
   "outputs": [],
   "source": [
    "plt.figure(figsize=(30,11),facecolor='white')\n",
    "sns.barplot(DF['Brand'],DF['Price'],hue = DF['Transmission'])"
   ]
  },
  {
   "cell_type": "markdown",
   "id": "22490e17",
   "metadata": {},
   "source": [
    "Automatic Transmission Variants are the most expensive cars of most car brands"
   ]
  },
  {
   "cell_type": "code",
   "execution_count": null,
   "id": "ac7aa3b3",
   "metadata": {},
   "outputs": [],
   "source": [
    "plt.figure(figsize=(30,11),facecolor='white')\n",
    "sns.barplot(DF['Brand'],DF['Price'],hue = DF['Fuel Type'])"
   ]
  },
  {
   "cell_type": "markdown",
   "id": "91000951",
   "metadata": {},
   "source": [
    "Diesel Variants,followed by Petrol Variants are the most expensive cars of most car brands"
   ]
  },
  {
   "cell_type": "markdown",
   "id": "955b35de",
   "metadata": {},
   "source": [
    "### Encoding Categorical Columns"
   ]
  },
  {
   "cell_type": "code",
   "execution_count": null,
   "id": "55bbbf0e",
   "metadata": {},
   "outputs": [],
   "source": [
    "from sklearn.preprocessing import LabelEncoder"
   ]
  },
  {
   "cell_type": "code",
   "execution_count": null,
   "id": "b6d00d70",
   "metadata": {},
   "outputs": [],
   "source": [
    "DF"
   ]
  },
  {
   "cell_type": "code",
   "execution_count": null,
   "id": "696bf09c",
   "metadata": {},
   "outputs": [],
   "source": [
    "DF['Owner'] = DF.Owner.map({'First Owner':1,'Second Owner':2,'Third Owner':3, 'Fourth Owner': 4, 'Fifth Owner': 5,'Sixth Owner': 6})"
   ]
  },
  {
   "cell_type": "code",
   "execution_count": null,
   "id": "8c24b376",
   "metadata": {},
   "outputs": [],
   "source": [
    "DF['Transmission'] = DF.Transmission.map({'Manual':1,'Automatic':2,'Automated Manual Transmission':3})"
   ]
  },
  {
   "cell_type": "code",
   "execution_count": null,
   "id": "46508a45",
   "metadata": {},
   "outputs": [],
   "source": [
    "DF['Fuel Type'] = DF['Fuel Type'].map({'Diesel':1,'Petrol':2,'Petrol + CNG':3, 'Petrol + LPG': 4, 'Hybrid': 5})"
   ]
  },
  {
   "cell_type": "code",
   "execution_count": null,
   "id": "f7d87502",
   "metadata": {},
   "outputs": [],
   "source": [
    "DF['Type'] = DF.Type.map({'Hatchback':1,'Sedan':2,'SUV':3, 'MUV': 4, 'Crossover': 5,'Van': 6,'Pick Up': 7,'Road':8})"
   ]
  },
  {
   "cell_type": "markdown",
   "id": "af2e159c",
   "metadata": {},
   "source": [
    "####  Encoding 'Location','Model' and 'Variant' using LabelEncoder()"
   ]
  },
  {
   "cell_type": "code",
   "execution_count": null,
   "id": "a58438a4",
   "metadata": {},
   "outputs": [],
   "source": [
    "labenc = LabelEncoder()"
   ]
  },
  {
   "cell_type": "code",
   "execution_count": null,
   "id": "e56691be",
   "metadata": {},
   "outputs": [],
   "source": [
    "for col in DF[['Location','Model','Variant']]:\n",
    "    DF[col] = labenc.fit_transform(DF[col])"
   ]
  },
  {
   "cell_type": "code",
   "execution_count": null,
   "id": "ec19c976",
   "metadata": {},
   "outputs": [],
   "source": [
    "DF"
   ]
  },
  {
   "cell_type": "markdown",
   "id": "37e9db63",
   "metadata": {},
   "source": [
    "####  Encoding 'Brand' using get_dummies()"
   ]
  },
  {
   "cell_type": "code",
   "execution_count": null,
   "id": "d493336f",
   "metadata": {},
   "outputs": [],
   "source": [
    "dumm = pd.get_dummies(DF['Brand']) "
   ]
  },
  {
   "cell_type": "code",
   "execution_count": null,
   "id": "2939afa8",
   "metadata": {},
   "outputs": [],
   "source": [
    "dumm"
   ]
  },
  {
   "cell_type": "code",
   "execution_count": null,
   "id": "cebfd21d",
   "metadata": {},
   "outputs": [],
   "source": [
    "DF = DF.join(dumm)"
   ]
  },
  {
   "cell_type": "code",
   "execution_count": null,
   "id": "dbd88f4a",
   "metadata": {},
   "outputs": [],
   "source": [
    "DF.drop(columns=['Brand'],inplace=True)"
   ]
  },
  {
   "cell_type": "code",
   "execution_count": null,
   "id": "ffecaa7b",
   "metadata": {},
   "outputs": [],
   "source": [
    "DF"
   ]
  },
  {
   "cell_type": "markdown",
   "id": "c96235c1",
   "metadata": {},
   "source": [
    "### Finding Correlation between Feature and Target columns"
   ]
  },
  {
   "cell_type": "code",
   "execution_count": null,
   "id": "f4c9d770",
   "metadata": {},
   "outputs": [],
   "source": [
    "d_corr =DF.corr()"
   ]
  },
  {
   "cell_type": "code",
   "execution_count": null,
   "id": "8e504408",
   "metadata": {
    "scrolled": true
   },
   "outputs": [],
   "source": [
    "d_corr"
   ]
  },
  {
   "cell_type": "code",
   "execution_count": null,
   "id": "51379cde",
   "metadata": {},
   "outputs": [],
   "source": [
    "plt.figure(figsize=(20,20))\n",
    "sns.heatmap(d_corr,annot=True,linewidth=1)\n",
    "plt.show()"
   ]
  },
  {
   "cell_type": "markdown",
   "id": "1028afeb",
   "metadata": {},
   "source": [
    "### Visualizing correlation of feature columns with label column."
   ]
  },
  {
   "cell_type": "code",
   "execution_count": null,
   "id": "7d9d4286",
   "metadata": {},
   "outputs": [],
   "source": [
    "plt.figure(figsize = (20,8))\n",
    "DF.corr()['Price'].sort_values(ascending = False).drop(['Price']).plot(kind='bar',color = 'c')\n",
    "plt.xlabel('Features',fontsize=15)\n",
    "plt.ylabel('Price',fontsize=15)\n",
    "plt.title('correlation',fontsize = 18)\n",
    "plt.show()"
   ]
  },
  {
   "cell_type": "markdown",
   "id": "75df05c1",
   "metadata": {},
   "source": [
    "Type, Seating Capacity have the strongest positive correlation with Price while Car Age,Total Kilometers Driven,Owner and Fuel Type have the strongest negative correlation with Price."
   ]
  },
  {
   "cell_type": "markdown",
   "id": "7e0502d0",
   "metadata": {},
   "source": [
    "### Feature Selection"
   ]
  },
  {
   "cell_type": "code",
   "execution_count": null,
   "id": "9341be7b",
   "metadata": {},
   "outputs": [],
   "source": [
    "from sklearn.preprocessing import StandardScaler"
   ]
  },
  {
   "cell_type": "code",
   "execution_count": null,
   "id": "d3724aaa",
   "metadata": {},
   "outputs": [],
   "source": [
    "X = DF.drop(columns = ['Price'])\n",
    "y = DF['Price']"
   ]
  },
  {
   "cell_type": "code",
   "execution_count": null,
   "id": "cdd1ffc5",
   "metadata": {},
   "outputs": [],
   "source": [
    "scaler= StandardScaler()\n",
    "scaled_X = scaler.fit_transform(X)"
   ]
  },
  {
   "cell_type": "markdown",
   "id": "daeb98eb",
   "metadata": {},
   "source": [
    "### Checking for Multicollinearity using Variance Inflation Factor"
   ]
  },
  {
   "cell_type": "code",
   "execution_count": null,
   "id": "78813bdc",
   "metadata": {},
   "outputs": [],
   "source": [
    "from statsmodels.stats.outliers_influence import variance_inflation_factor"
   ]
  },
  {
   "cell_type": "code",
   "execution_count": null,
   "id": "55a5a5c7",
   "metadata": {},
   "outputs": [],
   "source": [
    "vif = pd.DataFrame()"
   ]
  },
  {
   "cell_type": "code",
   "execution_count": null,
   "id": "38b7895a",
   "metadata": {},
   "outputs": [],
   "source": [
    "vif[\"Features\"] = X.columns\n",
    "vif['vif'] = [variance_inflation_factor(scaled_X,i) for i in range(scaled_X.shape[1])]"
   ]
  },
  {
   "cell_type": "code",
   "execution_count": null,
   "id": "1fbc5787",
   "metadata": {},
   "outputs": [],
   "source": [
    "vif"
   ]
  },
  {
   "cell_type": "markdown",
   "id": "7f7f3297",
   "metadata": {},
   "source": [
    "There is no Multicollinearity among the columns"
   ]
  },
  {
   "cell_type": "markdown",
   "id": "163693f3",
   "metadata": {},
   "source": [
    "### Selecting Kbest Features"
   ]
  },
  {
   "cell_type": "code",
   "execution_count": null,
   "id": "25281eb7",
   "metadata": {},
   "outputs": [],
   "source": [
    "from sklearn.feature_selection import SelectKBest, f_classif"
   ]
  },
  {
   "cell_type": "code",
   "execution_count": null,
   "id": "a7c37092",
   "metadata": {},
   "outputs": [],
   "source": [
    "bestfeat = SelectKBest(score_func = f_classif, k = 'all')\n",
    "fit = bestfeat.fit(X,y)\n",
    "dfscores = pd.DataFrame(fit.scores_)\n",
    "dfcolumns = pd.DataFrame(X.columns)"
   ]
  },
  {
   "cell_type": "code",
   "execution_count": null,
   "id": "fb275e2e",
   "metadata": {},
   "outputs": [],
   "source": [
    "fit = bestfeat.fit(X,y)\n",
    "dfscores = pd.DataFrame(fit.scores_)\n",
    "dfcolumns = pd.DataFrame(X.columns)\n",
    "dfcolumns.head()\n",
    "featureScores = pd.concat([dfcolumns,dfscores],axis = 1)\n",
    "featureScores.columns = ['Feature', 'Score']\n",
    "print(featureScores.nlargest(75,'Score'))"
   ]
  },
  {
   "cell_type": "markdown",
   "id": "d750bb1a",
   "metadata": {},
   "source": [
    "#### Selecting best features based on their scores:"
   ]
  },
  {
   "cell_type": "code",
   "execution_count": null,
   "id": "6f330b33",
   "metadata": {},
   "outputs": [],
   "source": [
    "x_best = X.drop(columns=['Opel','Eicher','Jeep']).copy()"
   ]
  },
  {
   "cell_type": "code",
   "execution_count": null,
   "id": "69beaaf8",
   "metadata": {},
   "outputs": [],
   "source": [
    "scaled_x_best = scaler.fit_transform(x_best)"
   ]
  },
  {
   "cell_type": "markdown",
   "id": "e697d2fd",
   "metadata": {},
   "source": [
    "### This is a Regression Problem since Target/ Label column ('Price') has Continuous type of Data.\n"
   ]
  },
  {
   "cell_type": "markdown",
   "id": "2d7a2057",
   "metadata": {},
   "source": [
    "## Regression Model Building"
   ]
  },
  {
   "cell_type": "code",
   "execution_count": null,
   "id": "f9cb5b8c",
   "metadata": {},
   "outputs": [],
   "source": [
    "from sklearn.model_selection import train_test_split"
   ]
  },
  {
   "cell_type": "code",
   "execution_count": null,
   "id": "e400f1c8",
   "metadata": {},
   "outputs": [],
   "source": [
    "from sklearn.metrics import r2_score"
   ]
  },
  {
   "cell_type": "markdown",
   "id": "64ab458b",
   "metadata": {},
   "source": [
    "#### Finding the Best Random State"
   ]
  },
  {
   "cell_type": "code",
   "execution_count": null,
   "id": "82e5d57a",
   "metadata": {
    "scrolled": true
   },
   "outputs": [],
   "source": [
    "from sklearn.ensemble import RandomForestRegressor\n",
    "maxAcc = 0\n",
    "maxRS=0\n",
    "for i in range(1,100):\n",
    "    x_train,x_test,y_train,y_test = train_test_split(scaled_x_best,y,test_size = .25, random_state = i)\n",
    "    modRF =  RandomForestRegressor()\n",
    "    modRF.fit(x_train,y_train)\n",
    "    pred = modRF.predict(x_test)\n",
    "    acc  = r2_score(y_test,pred)\n",
    "    if acc>maxAcc:\n",
    "        maxAcc=acc\n",
    "        maxRS=i\n",
    "print(f\"Best Accuracy is: {maxAcc} on random_state: {maxRS}\")"
   ]
  },
  {
   "cell_type": "code",
   "execution_count": null,
   "id": "11bd5ea4",
   "metadata": {},
   "outputs": [],
   "source": [
    "x_train,x_test,y_train,y_test = train_test_split(scaled_x_best,y,test_size = .25, random_state =90)"
   ]
  },
  {
   "cell_type": "code",
   "execution_count": null,
   "id": "10378c88",
   "metadata": {},
   "outputs": [],
   "source": [
    "from sklearn.model_selection import GridSearchCV\n",
    "from sklearn.linear_model import Ridge\n",
    "from sklearn.tree import DecisionTreeRegressor\n",
    "from sklearn.ensemble import RandomForestRegressor\n",
    "from xgboost import XGBRegressor\n",
    "from sklearn.svm import SVR\n",
    "from sklearn.neighbors import KNeighborsRegressor\n"
   ]
  },
  {
   "cell_type": "code",
   "execution_count": null,
   "id": "5c99d353",
   "metadata": {},
   "outputs": [],
   "source": [
    "from sklearn.metrics import r2_score,mean_squared_error"
   ]
  },
  {
   "cell_type": "code",
   "execution_count": null,
   "id": "437f6b32",
   "metadata": {},
   "outputs": [],
   "source": [
    "rf = RandomForestRegressor()\n",
    "dt = DecisionTreeRegressor()\n",
    "xg = XGBRegressor()\n",
    "SV= SVR()\n",
    "r=Ridge()\n",
    "KNN = KNeighborsRegressor()"
   ]
  },
  {
   "cell_type": "markdown",
   "id": "336a9d1e",
   "metadata": {},
   "source": [
    "### Training the Models"
   ]
  },
  {
   "cell_type": "code",
   "execution_count": null,
   "id": "2d1f1c3d",
   "metadata": {},
   "outputs": [],
   "source": [
    "rf.fit(x_train,y_train)\n",
    "xg.fit(x_train,y_train)\n",
    "SV.fit(x_train,y_train)\n",
    "r.fit(x_train,y_train)\n",
    "dt.fit(x_train,y_train)\n",
    "KNN.fit(x_train,y_train)"
   ]
  },
  {
   "cell_type": "markdown",
   "id": "83f5c765",
   "metadata": {},
   "source": [
    "All models have been trained."
   ]
  },
  {
   "cell_type": "markdown",
   "id": "0493186e",
   "metadata": {},
   "source": [
    "### Ridge Regression Model"
   ]
  },
  {
   "cell_type": "code",
   "execution_count": null,
   "id": "3951b096",
   "metadata": {},
   "outputs": [],
   "source": [
    "y_r_pred = r.predict(x_test)"
   ]
  },
  {
   "cell_type": "markdown",
   "id": "ec1900e0",
   "metadata": {},
   "source": [
    "####  R2 Score"
   ]
  },
  {
   "cell_type": "code",
   "execution_count": null,
   "id": "2c85c04c",
   "metadata": {},
   "outputs": [],
   "source": [
    "r2_score(y_test,y_r_pred)"
   ]
  },
  {
   "cell_type": "markdown",
   "id": "ddf6eb8f",
   "metadata": {},
   "source": [
    "#### Mean Squared Error "
   ]
  },
  {
   "cell_type": "code",
   "execution_count": null,
   "id": "ac7addc1",
   "metadata": {},
   "outputs": [],
   "source": [
    "mean_squared_error(y_test,y_r_pred)"
   ]
  },
  {
   "cell_type": "markdown",
   "id": "a7738058",
   "metadata": {},
   "source": [
    "#### Root Mean Squared Error"
   ]
  },
  {
   "cell_type": "code",
   "execution_count": null,
   "id": "ed6fd832",
   "metadata": {},
   "outputs": [],
   "source": [
    "np.sqrt(mean_squared_error(y_test,y_r_pred))"
   ]
  },
  {
   "cell_type": "markdown",
   "id": "002d6f90",
   "metadata": {},
   "source": [
    "###  Random Forest Regression Model"
   ]
  },
  {
   "cell_type": "code",
   "execution_count": null,
   "id": "7f6a8c5b",
   "metadata": {},
   "outputs": [],
   "source": [
    "y_rf_pred = rf.predict(x_test)"
   ]
  },
  {
   "cell_type": "markdown",
   "id": "b7aa97f9",
   "metadata": {},
   "source": [
    "#### R2 Score"
   ]
  },
  {
   "cell_type": "code",
   "execution_count": null,
   "id": "7fb4c800",
   "metadata": {},
   "outputs": [],
   "source": [
    "r2_score(y_test,y_rf_pred)"
   ]
  },
  {
   "cell_type": "markdown",
   "id": "7bfbf21e",
   "metadata": {},
   "source": [
    "#### Mean Squared Error"
   ]
  },
  {
   "cell_type": "code",
   "execution_count": null,
   "id": "41d799cb",
   "metadata": {},
   "outputs": [],
   "source": [
    "mean_squared_error(y_test,y_rf_pred)"
   ]
  },
  {
   "cell_type": "markdown",
   "id": "da20866c",
   "metadata": {},
   "source": [
    "#### Root Mean Squared Error"
   ]
  },
  {
   "cell_type": "code",
   "execution_count": null,
   "id": "450a5e21",
   "metadata": {},
   "outputs": [],
   "source": [
    "np.sqrt(mean_squared_error(y_test,y_rf_pred))"
   ]
  },
  {
   "cell_type": "markdown",
   "id": "5002fb20",
   "metadata": {},
   "source": [
    "### XGB Regression Model "
   ]
  },
  {
   "cell_type": "code",
   "execution_count": null,
   "id": "adb2f73d",
   "metadata": {},
   "outputs": [],
   "source": [
    "y_xg_pred = xg.predict(x_test)"
   ]
  },
  {
   "cell_type": "markdown",
   "id": "aa99d335",
   "metadata": {},
   "source": [
    "####  R2 Score"
   ]
  },
  {
   "cell_type": "code",
   "execution_count": null,
   "id": "0a1f9db9",
   "metadata": {},
   "outputs": [],
   "source": [
    "r2_score(y_test,y_xg_pred)"
   ]
  },
  {
   "cell_type": "markdown",
   "id": "fc48340c",
   "metadata": {},
   "source": [
    "#### Mean Squared Error"
   ]
  },
  {
   "cell_type": "code",
   "execution_count": null,
   "id": "057f81b1",
   "metadata": {},
   "outputs": [],
   "source": [
    "mean_squared_error(y_test,y_xg_pred)"
   ]
  },
  {
   "cell_type": "markdown",
   "id": "982bf7c6",
   "metadata": {},
   "source": [
    "#### Root Mean Squared Error"
   ]
  },
  {
   "cell_type": "code",
   "execution_count": null,
   "id": "fb4c6739",
   "metadata": {},
   "outputs": [],
   "source": [
    "np.sqrt(mean_squared_error(y_test,y_xg_pred))"
   ]
  },
  {
   "cell_type": "markdown",
   "id": "2ed572da",
   "metadata": {},
   "source": [
    "### Support Vector Regression Model"
   ]
  },
  {
   "cell_type": "code",
   "execution_count": null,
   "id": "eca8fb95",
   "metadata": {},
   "outputs": [],
   "source": [
    "y_svr_pred = SV.predict(x_test)"
   ]
  },
  {
   "cell_type": "markdown",
   "id": "4ff6b6cd",
   "metadata": {},
   "source": [
    "####  R2 Score"
   ]
  },
  {
   "cell_type": "code",
   "execution_count": null,
   "id": "13337d3b",
   "metadata": {},
   "outputs": [],
   "source": [
    "r2_score(y_test,y_svr_pred)"
   ]
  },
  {
   "cell_type": "markdown",
   "id": "d5a8eca0",
   "metadata": {},
   "source": [
    "#### Mean Squared Error"
   ]
  },
  {
   "cell_type": "code",
   "execution_count": null,
   "id": "3787b6da",
   "metadata": {},
   "outputs": [],
   "source": [
    "mean_squared_error(y_test,y_svr_pred)"
   ]
  },
  {
   "cell_type": "markdown",
   "id": "cadaaaa4",
   "metadata": {},
   "source": [
    "#### Root Mean Squared Error"
   ]
  },
  {
   "cell_type": "code",
   "execution_count": null,
   "id": "de63d7bd",
   "metadata": {},
   "outputs": [],
   "source": [
    "np.sqrt(mean_squared_error(y_test,y_svr_pred))"
   ]
  },
  {
   "cell_type": "markdown",
   "id": "9ce5c2b9",
   "metadata": {},
   "source": [
    "###  Decision Tree Regression Model"
   ]
  },
  {
   "cell_type": "code",
   "execution_count": null,
   "id": "689c76b8",
   "metadata": {},
   "outputs": [],
   "source": [
    "y_dt_pred = dt.predict(x_test)"
   ]
  },
  {
   "cell_type": "markdown",
   "id": "bef8b913",
   "metadata": {},
   "source": [
    "####  R2 Score"
   ]
  },
  {
   "cell_type": "code",
   "execution_count": null,
   "id": "773ca031",
   "metadata": {},
   "outputs": [],
   "source": [
    "r2_score(y_test,y_dt_pred)"
   ]
  },
  {
   "cell_type": "markdown",
   "id": "f0ea4f8f",
   "metadata": {},
   "source": [
    "#### Mean Squared Error"
   ]
  },
  {
   "cell_type": "code",
   "execution_count": null,
   "id": "44f346b8",
   "metadata": {},
   "outputs": [],
   "source": [
    "mean_squared_error(y_test,y_dt_pred)"
   ]
  },
  {
   "cell_type": "markdown",
   "id": "e6b6f938",
   "metadata": {},
   "source": [
    "#### Root Mean Squared Error"
   ]
  },
  {
   "cell_type": "code",
   "execution_count": null,
   "id": "1398db31",
   "metadata": {
    "scrolled": true
   },
   "outputs": [],
   "source": [
    "np.sqrt(mean_squared_error(y_test,y_dt_pred))"
   ]
  },
  {
   "cell_type": "markdown",
   "id": "072980a2",
   "metadata": {},
   "source": [
    "###  KNN Regression Model"
   ]
  },
  {
   "cell_type": "code",
   "execution_count": null,
   "id": "f7b28282",
   "metadata": {},
   "outputs": [],
   "source": [
    "y_knn_pred = KNN.predict(x_test)"
   ]
  },
  {
   "cell_type": "markdown",
   "id": "ea09acde",
   "metadata": {},
   "source": [
    "####  R2 Score"
   ]
  },
  {
   "cell_type": "code",
   "execution_count": null,
   "id": "9e63a32e",
   "metadata": {},
   "outputs": [],
   "source": [
    "r2_score(y_test,y_knn_pred)"
   ]
  },
  {
   "cell_type": "markdown",
   "id": "6bbf85fb",
   "metadata": {},
   "source": [
    "#### Mean Squared Error"
   ]
  },
  {
   "cell_type": "code",
   "execution_count": null,
   "id": "de80a72c",
   "metadata": {},
   "outputs": [],
   "source": [
    "mean_squared_error(y_test,y_knn_pred)"
   ]
  },
  {
   "cell_type": "markdown",
   "id": "5d83807b",
   "metadata": {},
   "source": [
    "#### Root Mean Squared Error"
   ]
  },
  {
   "cell_type": "code",
   "execution_count": null,
   "id": "bebcf950",
   "metadata": {
    "scrolled": true
   },
   "outputs": [],
   "source": [
    "np.sqrt(mean_squared_error(y_test,y_knn_pred))"
   ]
  },
  {
   "cell_type": "markdown",
   "id": "fba68aa7",
   "metadata": {},
   "source": [
    "### Model Cross Validation"
   ]
  },
  {
   "cell_type": "code",
   "execution_count": null,
   "id": "474aab10",
   "metadata": {},
   "outputs": [],
   "source": [
    "from sklearn.model_selection import ShuffleSplit,cross_val_score"
   ]
  },
  {
   "cell_type": "markdown",
   "id": "fdb9ce6d",
   "metadata": {},
   "source": [
    "#### Ridge Regression"
   ]
  },
  {
   "cell_type": "code",
   "execution_count": null,
   "id": "0dcd34fc",
   "metadata": {
    "scrolled": true
   },
   "outputs": [],
   "source": [
    "cross_val_score(r,scaled_x_best,y,cv=5).mean()"
   ]
  },
  {
   "cell_type": "markdown",
   "id": "5139b94a",
   "metadata": {},
   "source": [
    "#### Random Forest Regression"
   ]
  },
  {
   "cell_type": "code",
   "execution_count": null,
   "id": "81a86333",
   "metadata": {},
   "outputs": [],
   "source": [
    "cross_val_score(rf,scaled_x_best,y,cv=5).mean()"
   ]
  },
  {
   "cell_type": "markdown",
   "id": "1d29f53d",
   "metadata": {},
   "source": [
    "#### XGB Regression"
   ]
  },
  {
   "cell_type": "code",
   "execution_count": null,
   "id": "b8964a5a",
   "metadata": {
    "scrolled": false
   },
   "outputs": [],
   "source": [
    "cross_val_score(xg,scaled_x_best,y,cv=5).mean()"
   ]
  },
  {
   "cell_type": "markdown",
   "id": "6120de44",
   "metadata": {},
   "source": [
    "#### SV Regression"
   ]
  },
  {
   "cell_type": "code",
   "execution_count": null,
   "id": "ebbb5887",
   "metadata": {},
   "outputs": [],
   "source": [
    "cross_val_score(SV,scaled_x_best,y,cv=5).mean()"
   ]
  },
  {
   "cell_type": "markdown",
   "id": "c2ee1efb",
   "metadata": {},
   "source": [
    "#### Decision Tree Regression"
   ]
  },
  {
   "cell_type": "code",
   "execution_count": null,
   "id": "8fbf5247",
   "metadata": {
    "scrolled": true
   },
   "outputs": [],
   "source": [
    "cross_val_score(dt,scaled_x_best,y,cv=5).mean()"
   ]
  },
  {
   "cell_type": "markdown",
   "id": "39d5ce9f",
   "metadata": {},
   "source": [
    "#### KNN Regression"
   ]
  },
  {
   "cell_type": "code",
   "execution_count": null,
   "id": "72c63985",
   "metadata": {},
   "outputs": [],
   "source": [
    "cross_val_score(KNN,scaled_x_best,y,cv=5).mean()"
   ]
  },
  {
   "cell_type": "markdown",
   "id": "49919a7d",
   "metadata": {},
   "source": [
    "### Based on comparing Accuracy Score results with Cross Validation results, it is determined that XGB Regressor is the best model. It also has the lowest Root Mean Squared Error score"
   ]
  },
  {
   "cell_type": "markdown",
   "id": "20c19d9a",
   "metadata": {},
   "source": [
    "### Hyper Parameter Tuning"
   ]
  },
  {
   "cell_type": "code",
   "execution_count": null,
   "id": "df2643f5",
   "metadata": {},
   "outputs": [],
   "source": [
    "from sklearn.model_selection import GridSearchCV"
   ]
  },
  {
   "cell_type": "markdown",
   "id": "768d33cd",
   "metadata": {},
   "source": [
    "#### XGB Regressor"
   ]
  },
  {
   "cell_type": "code",
   "execution_count": null,
   "id": "a70d1640",
   "metadata": {},
   "outputs": [],
   "source": [
    "parameter = {'booster':[\"gbtree\",\"gblinear\"],'eta': [0.01,0.1,0.2,0.3],'min_child_weight':np.arange(5),'max_depth':[10,20,40,60,80],'subsample':[0.5,1]}"
   ]
  },
  {
   "cell_type": "code",
   "execution_count": null,
   "id": "84d0c037",
   "metadata": {},
   "outputs": [],
   "source": [
    "GridCV = GridSearchCV(XGBRegressor(),parameter,cv=5,n_jobs = -1,verbose = 1)"
   ]
  },
  {
   "cell_type": "code",
   "execution_count": null,
   "id": "2fce4aad",
   "metadata": {},
   "outputs": [],
   "source": [
    "GridCV.fit(x_train,y_train)"
   ]
  },
  {
   "cell_type": "code",
   "execution_count": null,
   "id": "5afc3100",
   "metadata": {},
   "outputs": [],
   "source": [
    "GridCV.best_params_"
   ]
  },
  {
   "cell_type": "code",
   "execution_count": null,
   "id": "111a7f79",
   "metadata": {},
   "outputs": [],
   "source": [
    "Best_mod = XGBRegressor(booster = 'gbtree',eta = 0.1, max_depth= 10, min_child_weight = 3,subsample = 0.5)\n",
    "Best_mod.fit(x_train,y_train)"
   ]
  },
  {
   "cell_type": "code",
   "execution_count": null,
   "id": "83293681",
   "metadata": {},
   "outputs": [],
   "source": [
    "xgbpred = Best_mod.predict(x_test)\n",
    "\n",
    "acc = r2_score(y_test,xgbpred)\n",
    "print(acc*100)"
   ]
  },
  {
   "cell_type": "markdown",
   "id": "518de312",
   "metadata": {},
   "source": [
    "### XGB Regressor has an accuracy of 92.48%"
   ]
  },
  {
   "cell_type": "markdown",
   "id": "153515bd",
   "metadata": {},
   "source": [
    "#### Saving The Model"
   ]
  },
  {
   "cell_type": "code",
   "execution_count": null,
   "id": "462464c3",
   "metadata": {},
   "outputs": [],
   "source": [
    "import joblib\n",
    "joblib.dump(Best_mod,\"BestModelCar.pkl\")"
   ]
  },
  {
   "cell_type": "markdown",
   "id": "98df62ec",
   "metadata": {},
   "source": [
    "#### Loading The Model"
   ]
  },
  {
   "cell_type": "code",
   "execution_count": null,
   "id": "a9531268",
   "metadata": {},
   "outputs": [],
   "source": [
    "mod=joblib.load(\"BestModelCar.pkl\")"
   ]
  },
  {
   "cell_type": "code",
   "execution_count": null,
   "id": "8b8c23da",
   "metadata": {},
   "outputs": [],
   "source": [
    "print(mod.predict(scaled_x_best))"
   ]
  },
  {
   "cell_type": "code",
   "execution_count": null,
   "id": "45e7bfd8",
   "metadata": {},
   "outputs": [],
   "source": [
    "Prediction_accuracy = pd.DataFrame({'Predictions': mod.predict(scaled_x_best), 'Actual Values': y[0:7207]})\n",
    "Prediction_accuracy"
   ]
  },
  {
   "cell_type": "code",
   "execution_count": null,
   "id": "5286e33f",
   "metadata": {},
   "outputs": [],
   "source": []
  }
 ],
 "metadata": {
  "kernelspec": {
   "display_name": "Python 3 (ipykernel)",
   "language": "python",
   "name": "python3"
  },
  "language_info": {
   "codemirror_mode": {
    "name": "ipython",
    "version": 3
   },
   "file_extension": ".py",
   "mimetype": "text/x-python",
   "name": "python",
   "nbconvert_exporter": "python",
   "pygments_lexer": "ipython3",
   "version": "3.9.7"
  }
 },
 "nbformat": 4,
 "nbformat_minor": 5
}
